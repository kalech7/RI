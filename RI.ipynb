{
 "cells": [
  {
   "cell_type": "markdown",
   "metadata": {},
   "source": [
    "# Preprocesamiento"
   ]
  },
  {
   "cell_type": "code",
   "execution_count": 1,
   "metadata": {},
   "outputs": [],
   "source": [
    "import pandas as pd\n",
    "import re\n",
    "from nltk.tokenize import word_tokenize\n",
    "from nltk.corpus import stopwords\n",
    "from nltk.stem import PorterStemmer\n",
    "import nltk\n",
    "from sklearn.feature_extraction.text import TfidfVectorizer"
   ]
  },
  {
   "cell_type": "markdown",
   "metadata": {},
   "source": [
    "# Preprocesamiento"
   ]
  },
  {
   "cell_type": "markdown",
   "metadata": {},
   "source": [
    "# Carga de Datos stemming eliminacion de stop words"
   ]
  },
  {
   "cell_type": "code",
   "execution_count": null,
   "metadata": {},
   "outputs": [
    {
     "name": "stderr",
     "output_type": "stream",
     "text": [
      "[nltk_data] Downloading package stopwords to\n",
      "[nltk_data]     C:\\Users\\User\\AppData\\Roaming\\nltk_data...\n",
      "[nltk_data]   Package stopwords is already up-to-date!\n"
     ]
    },
    {
     "name": "stdout",
     "output_type": "stream",
     "text": [
      "Valores nulos en 'review_content': 65806\n"
     ]
    }
   ],
   "source": [
    "import nltk\n",
    "from nltk.corpus import stopwords\n",
    "from nltk.stem import PorterStemmer\n",
    "import re\n",
    "import pandas as pd\n",
    "from sklearn.feature_extraction.text import TfidfVectorizer\n",
    "\n",
    "# Descargar el conjunto de stopwords de nltk si no lo tienes\n",
    "nltk.download('stopwords')\n",
    "\n",
    "# Inicializar el Stemmer y las stopwords\n",
    "stemmer = PorterStemmer()\n",
    "stop_words = set(stopwords.words('english'))\n",
    "\n",
    "# Función de preprocesamiento de texto\n",
    "def preprocess_text(text):\n",
    "    # Convertir a minúsculas\n",
    "    text = text.lower()\n",
    "    # Eliminar caracteres especiales y números\n",
    "    text = re.sub(r\"[^a-z\\s]\", \"\", text)\n",
    "    # Tokenizar, eliminar stopwords y aplicar stemming\n",
    "    tokens = [stemmer.stem(word) for word in text.split() if word not in stop_words]\n",
    "    # Unir los tokens procesados\n",
    "    return \" \".join(tokens)\n",
    "\n",
    "# Cargar los datos\n",
    "movies_path = \"data/rotten_tomatoes_movies.csv\"\n",
    "reviews_path = \"data/rotten_tomatoes_critic_reviews.csv\"\n",
    "\n",
    "movies_df = pd.read_csv(movies_path)\n",
    "reviews_df = pd.read_csv(reviews_path)\n",
    "\n",
    "# Preprocesar la columna de críticas\n",
    "print(\"Valores nulos en 'review_content':\", reviews_df['review_content'].isnull().sum())\n",
    "reviews_df = reviews_df[reviews_df['review_content'].notnull()]\n",
    "reviews_df['processed_review'] = reviews_df['review_content'].apply(preprocess_text)\n",
    "\n",
    "# Crear la matriz TF-IDF\n",
    "vectorizer = TfidfVectorizer()\n",
    "tfidf_matrix = vectorizer.fit_transform(reviews_df['processed_review'])\n",
    "\n",
    "# Vincular críticas con títulos de películas\n",
    "reviews_with_titles = reviews_df.merge(movies_df[['rotten_tomatoes_link', 'movie_title']], \n",
    "                                       on='rotten_tomatoes_link', how='left')\n",
    "\n",
    "# Mostrar las primeras filas para confirmar\n",
    "print(reviews_with_titles[['movie_title', 'processed_review']].head())\n"
   ]
  },
  {
   "cell_type": "markdown",
   "metadata": {},
   "source": [
    "# Vectorizar"
   ]
  },
  {
   "cell_type": "markdown",
   "metadata": {},
   "source": [
    "## Matriz TF-IDF"
   ]
  },
  {
   "cell_type": "code",
   "execution_count": null,
   "metadata": {},
   "outputs": [],
   "source": [
    "# Crear la matriz TF-IDF\n",
    "vectorizer = TfidfVectorizer()\n",
    "tfidf_matrix = vectorizer.fit_transform(reviews_df['processed_review'])\n",
    "\n",
    "# Convertir la matriz TF-IDF a un DataFrame para facilitar la visualización\n",
    "tfidf_df = pd.DataFrame(tfidf_matrix.toarray(), columns=vectorizer.get_feature_names_out())\n",
    "\n",
    "# Mostrar las primeras filas de la matriz TF-IDF\n",
    "print(tfidf_df.head())"
   ]
  },
  {
   "cell_type": "markdown",
   "metadata": {},
   "source": [
    "# Motor de busqueda "
   ]
  },
  {
   "cell_type": "markdown",
   "metadata": {},
   "source": [
    "## Distancia Jaccard"
   ]
  },
  {
   "cell_type": "code",
   "execution_count": null,
   "metadata": {},
   "outputs": [],
   "source": [
    "# Calcular el índice de Jaccard\n",
    "def jaccard_similarity(query_tokens, review_tokens):\n",
    "    # Convertir los tokens en sets\n",
    "    set_query = set(query_tokens)\n",
    "    set_review = set(review_tokens)\n",
    "    \n",
    "    # Calcular la intersección y la unión de los sets\n",
    "    intersection = len(set_query.intersection(set_review))\n",
    "    union = len(set_query.union(set_review))\n",
    "    \n",
    "    # Calcular la similitud de Jaccard\n",
    "    if union == 0:\n",
    "        return 0\n",
    "    else:\n",
    "        return intersection / union\n",
    "\n",
    "# Función para procesar la consulta del usuario\n",
    "def process_user_query(query, reviews_df):\n",
    "    # Preprocesar la consulta del usuario\n",
    "    query_tokens = preprocess_text(query)\n",
    "    \n",
    "    # Crear una lista para almacenar las similitudes\n",
    "    similarities = []\n",
    "    \n",
    "    # Calcular la similitud de Jaccard para cada reseña\n",
    "    for index, row in reviews_df.iterrows():\n",
    "        review_tokens = row['processed_review']\n",
    "        similarity = jaccard_similarity(query_tokens, review_tokens)\n",
    "        similarities.append((row['movie_title'], similarity))\n",
    "    \n",
    "    # Ordenar las reseñas por similitud (de mayor a menor)\n",
    "    similarities.sort(key=lambda x: x[1], reverse=True)\n",
    "    \n",
    "    # Mostrar las 5 reseñas más similares\n",
    "    return similarities[:5]\n",
    "\n",
    "# Cargar los datos\n",
    "movies_path = \"data/rotten_tomatoes_movies.csv\"\n",
    "reviews_path = \"data/rotten_tomatoes_critic_reviews.csv\"\n",
    "\n",
    "movies_df = pd.read_csv(movies_path)\n",
    "reviews_df = pd.read_csv(reviews_path)\n",
    "\n",
    "# Preprocesar las críticas\n",
    "reviews_df['processed_review'] = reviews_df['review_content'].apply(preprocess_text)\n",
    "\n",
    "# Ejemplo de consulta del usuario\n",
    "user_query = \"Amazing movie with great action and plot\"\n",
    "\n",
    "# Obtener las 5 reseñas más similares\n",
    "top_reviews = process_user_query(user_query, reviews_df)\n",
    "\n",
    "# Mostrar las reseñas más similares\n",
    "for title, similarity in top_reviews:\n",
    "    print(f\"Movie: {title}, Similarity: {similarity:.4f}\")\n"
   ]
  }
 ],
 "metadata": {
  "kernelspec": {
   "display_name": "Python 3",
   "language": "python",
   "name": "python3"
  },
  "language_info": {
   "codemirror_mode": {
    "name": "ipython",
    "version": 3
   },
   "file_extension": ".py",
   "mimetype": "text/x-python",
   "name": "python",
   "nbconvert_exporter": "python",
   "pygments_lexer": "ipython3",
   "version": "3.12.7"
  }
 },
 "nbformat": 4,
 "nbformat_minor": 2
}
